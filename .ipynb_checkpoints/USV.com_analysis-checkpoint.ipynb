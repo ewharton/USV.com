{
 "cells": [
  {
   "cell_type": "code",
   "execution_count": 548,
   "metadata": {
    "collapsed": false
   },
   "outputs": [],
   "source": [
    "import pandas as pd\n",
    "import numpy as np\n",
    "import matplotlib.pyplot as plt\n",
    "import seaborn as sns\n",
    "import gensim\n",
    "\n",
    "from sklearn.feature_extraction.text import CountVectorizer, TfidfVectorizer\n",
    "from sklearn.feature_extraction.text import TfidfTransformer\n",
    "from sklearn.linear_model import LogisticRegression\n",
    "from sklearn import decomposition\n",
    "\n",
    "from IPython.display import Image\n",
    "from IPython.display import HTML\n",
    "\n",
    "%matplotlib inline\n",
    "\n",
    "from pylab import rcParams\n",
    "\n",
    "rcParams['figure.figsize'] = 15, 10\n",
    " \n",
    "plt.style.use('fivethirtyeight')"
   ]
  },
  {
   "cell_type": "code",
   "execution_count": 1,
   "metadata": {
    "collapsed": false
   },
   "outputs": [
    {
     "data": {
      "text/html": [
       "<script>jQuery(function() {if (jQuery(\"body.notebook_app\").length == 0) { jQuery(\".input_area\").toggle(); jQuery(\".prompt\").toggle();}});</script>"
      ]
     },
     "metadata": {},
     "output_type": "display_data"
    },
    {
     "data": {
      "text/html": [
       "<button onclick=\"jQuery('.input_area').toggle(); jQuery('.prompt').toggle();\">Toggle code</button>"
      ]
     },
     "metadata": {},
     "output_type": "display_data"
    }
   ],
   "source": [
    "import IPython.core.display as di\n",
    "\n",
    "# This line will hide code by default when the notebook is exported as HTML\n",
    "di.display_html('<script>jQuery(function() {if (jQuery(\"body.notebook_app\").length == 0) { jQuery(\".input_area\").toggle(); jQuery(\".prompt\").toggle();}});</script>', raw=True)\n",
    "\n",
    "# This line will add a button to toggle visibility of code blocks, for use with the HTML export version\n",
    "di.display_html('''<button onclick=\"jQuery('.input_area').toggle(); jQuery('.prompt').toggle();\">Toggle code</button>''', raw=True)"
   ]
  },
  {
   "cell_type": "code",
   "execution_count": 531,
   "metadata": {
    "collapsed": true
   },
   "outputs": [],
   "source": [
    "def output_columns(df,rounding=2):\n",
    "    #keep as a dataframe to perform vectorized string operations\n",
    "    names = pd.DataFrame(df.columns)\n",
    "    names.columns= ['temp']\n",
    "    names = pd.DataFrame(names.temp.str.replace(\"_\", \" \"))\n",
    "    df.columns = list(names.temp.str.title().str.replace('usv','USV',case=False))\n",
    "    return df"
   ]
  },
  {
   "cell_type": "code",
   "execution_count": 532,
   "metadata": {
    "collapsed": false
   },
   "outputs": [],
   "source": [
    "posts = pd.read_csv('usv_posts_cleaned.csv',encoding='utf8',parse_dates=True)\n",
    "posters = pd.read_csv(\"usv_posters_cleaned.csv\",encoding=\"utf8\")\n"
   ]
  },
  {
   "cell_type": "code",
   "execution_count": 533,
   "metadata": {
    "collapsed": false
   },
   "outputs": [],
   "source": [
    "posts.date_created = pd.to_datetime(posts.date_created)\n",
    "posters['relation_to_USV'] =  np.where((posters.ever_usver)&(posters.is_usver==False),'Former USVer','Civilian')\n",
    "posters.ix[posters.is_usver,'relation_to_USV'] = \"Current USVer\""
   ]
  },
  {
   "cell_type": "markdown",
   "metadata": {},
   "source": [
    "# What is this?\n",
    "\n",
    "This is a brief analysis of [USV.com](https://www.USV.com) post data from inception to Feb 2015. I explore top posters, look for patterns, favorite topics and and even some profiles on what different community members like to discuss. \n",
    "\n",
    "The data includes: \n",
    "+ the poster's twitter handle\n",
    "+ the post title\n",
    "+ the user submitted description (body text)\n",
    "+ the time of the post\n",
    "+ who upvoted it \n",
    "+ comments and upvotes recieved \n",
    "\n",
    "This is all publicly scrapable, but was given to me during a hack day. \n",
    "\n",
    "Below is an example of the data set, sorted by comment count:"
   ]
  },
  {
   "cell_type": "code",
   "execution_count": 534,
   "metadata": {
    "collapsed": false
   },
   "outputs": [
    {
     "data": {
      "text/html": [
       "<div>\n",
       "<table border=\"1\" class=\"dataframe\">\n",
       "  <thead>\n",
       "    <tr style=\"text-align: right;\">\n",
       "      <th></th>\n",
       "      <th>Title</th>\n",
       "      <th>Poster</th>\n",
       "      <th>Date Created</th>\n",
       "      <th>Upvotes</th>\n",
       "      <th>Comment Count</th>\n",
       "      <th>Voted Users</th>\n",
       "      <th>Body Text</th>\n",
       "    </tr>\n",
       "  </thead>\n",
       "  <tbody>\n",
       "    <tr>\n",
       "      <th>1193</th>\n",
       "      <td>Bitcoin As Protocol</td>\n",
       "      <td>albertwenger</td>\n",
       "      <td>2013-10-31 16:00:51.061</td>\n",
       "      <td>42</td>\n",
       "      <td>216</td>\n",
       "      <td>[u'albertwenger', u'aweissman', u'ppearlman', ...</td>\n",
       "      <td>We owe many of the innovations that we use eve...</td>\n",
       "    </tr>\n",
       "    <tr>\n",
       "      <th>2540</th>\n",
       "      <td>Winning on Trust</td>\n",
       "      <td>nickgrossman</td>\n",
       "      <td>2013-12-24 07:15:10.488</td>\n",
       "      <td>21</td>\n",
       "      <td>88</td>\n",
       "      <td>[u'nickgrossman', u'aweissman', u'albertwenger...</td>\n",
       "      <td>Thoughts on why trust will be central to #winn...</td>\n",
       "    </tr>\n",
       "    <tr>\n",
       "      <th>1807</th>\n",
       "      <td>Vote vs. Like vs. Favorite vs. INSERT VERB HERE</td>\n",
       "      <td>falicon</td>\n",
       "      <td>2013-11-22 14:28:30.619</td>\n",
       "      <td>12</td>\n",
       "      <td>67</td>\n",
       "      <td>[u'falicon', u'nickgrossman', u'kidmercury', u...</td>\n",
       "      <td>Throwing the question about what to call the u...</td>\n",
       "    </tr>\n",
       "    <tr>\n",
       "      <th>3045</th>\n",
       "      <td>Feedback wanted: new look front page at usv.com</td>\n",
       "      <td>nickgrossman</td>\n",
       "      <td>2014-01-21 08:59:51.998</td>\n",
       "      <td>11</td>\n",
       "      <td>67</td>\n",
       "      <td>[u'nickgrossman', u'ron_miller', u'julien51', ...</td>\n",
       "      <td>Hi Everyone --\\nLast week we started experimen...</td>\n",
       "    </tr>\n",
       "    <tr>\n",
       "      <th>4178</th>\n",
       "      <td>To Dare is To Do</td>\n",
       "      <td>billmcneely</td>\n",
       "      <td>2014-03-17 06:08:44.918</td>\n",
       "      <td>33</td>\n",
       "      <td>62</td>\n",
       "      <td>[u'billmcneely', u'annelibby', u'LonnyLot', u'...</td>\n",
       "      <td>Yesterday I was watching a proper football mat...</td>\n",
       "    </tr>\n",
       "  </tbody>\n",
       "</table>\n",
       "</div>"
      ],
      "text/plain": [
       "                                                Title        Poster  \\\n",
       "1193                              Bitcoin As Protocol  albertwenger   \n",
       "2540                                 Winning on Trust  nickgrossman   \n",
       "1807  Vote vs. Like vs. Favorite vs. INSERT VERB HERE       falicon   \n",
       "3045  Feedback wanted: new look front page at usv.com  nickgrossman   \n",
       "4178                                 To Dare is To Do   billmcneely   \n",
       "\n",
       "                Date Created  Upvotes  Comment Count  \\\n",
       "1193 2013-10-31 16:00:51.061       42            216   \n",
       "2540 2013-12-24 07:15:10.488       21             88   \n",
       "1807 2013-11-22 14:28:30.619       12             67   \n",
       "3045 2014-01-21 08:59:51.998       11             67   \n",
       "4178 2014-03-17 06:08:44.918       33             62   \n",
       "\n",
       "                                            Voted Users  \\\n",
       "1193  [u'albertwenger', u'aweissman', u'ppearlman', ...   \n",
       "2540  [u'nickgrossman', u'aweissman', u'albertwenger...   \n",
       "1807  [u'falicon', u'nickgrossman', u'kidmercury', u...   \n",
       "3045  [u'nickgrossman', u'ron_miller', u'julien51', ...   \n",
       "4178  [u'billmcneely', u'annelibby', u'LonnyLot', u'...   \n",
       "\n",
       "                                              Body Text  \n",
       "1193  We owe many of the innovations that we use eve...  \n",
       "2540  Thoughts on why trust will be central to #winn...  \n",
       "1807  Throwing the question about what to call the u...  \n",
       "3045  Hi Everyone --\\nLast week we started experimen...  \n",
       "4178  Yesterday I was watching a proper football mat...  "
      ]
     },
     "execution_count": 534,
     "metadata": {},
     "output_type": "execute_result"
    }
   ],
   "source": [
    "output_columns(posts.sort_values('comment_count',ascending=False)).head()"
   ]
  },
  {
   "cell_type": "markdown",
   "metadata": {},
   "source": [
    "## Top Posters\n",
    "\n",
    "Here are the stats for the top 10 posters determined by the number of conversation their posts sparked:"
   ]
  },
  {
   "cell_type": "code",
   "execution_count": 535,
   "metadata": {
    "collapsed": false
   },
   "outputs": [
    {
     "data": {
      "text/html": [
       "<div>\n",
       "<table border=\"1\" class=\"dataframe\">\n",
       "  <thead>\n",
       "    <tr style=\"text-align: right;\">\n",
       "      <th></th>\n",
       "      <th>Poster</th>\n",
       "      <th>Post Count</th>\n",
       "      <th>Mean Comments</th>\n",
       "      <th>Conversations Sparked</th>\n",
       "      <th>Percent Of Posts With Comments</th>\n",
       "      <th>Relation To USV</th>\n",
       "    </tr>\n",
       "  </thead>\n",
       "  <tbody>\n",
       "    <tr>\n",
       "      <th>257</th>\n",
       "      <td>aweissman</td>\n",
       "      <td>452</td>\n",
       "      <td>1.52</td>\n",
       "      <td>45</td>\n",
       "      <td>0.43</td>\n",
       "      <td>Current USVer</td>\n",
       "    </tr>\n",
       "    <tr>\n",
       "      <th>381</th>\n",
       "      <td>fredwilson</td>\n",
       "      <td>542</td>\n",
       "      <td>1.46</td>\n",
       "      <td>43</td>\n",
       "      <td>0.39</td>\n",
       "      <td>Current USVer</td>\n",
       "    </tr>\n",
       "    <tr>\n",
       "      <th>543</th>\n",
       "      <td>nickgrossman</td>\n",
       "      <td>295</td>\n",
       "      <td>2.19</td>\n",
       "      <td>37</td>\n",
       "      <td>0.43</td>\n",
       "      <td>Current USVer</td>\n",
       "    </tr>\n",
       "    <tr>\n",
       "      <th>700</th>\n",
       "      <td>wmougayar</td>\n",
       "      <td>394</td>\n",
       "      <td>1.09</td>\n",
       "      <td>30</td>\n",
       "      <td>0.31</td>\n",
       "      <td>Civilian</td>\n",
       "    </tr>\n",
       "    <tr>\n",
       "      <th>235</th>\n",
       "      <td>albertwenger</td>\n",
       "      <td>143</td>\n",
       "      <td>2.97</td>\n",
       "      <td>19</td>\n",
       "      <td>0.39</td>\n",
       "      <td>Current USVer</td>\n",
       "    </tr>\n",
       "    <tr>\n",
       "      <th>475</th>\n",
       "      <td>kidmercury</td>\n",
       "      <td>277</td>\n",
       "      <td>0.94</td>\n",
       "      <td>17</td>\n",
       "      <td>0.29</td>\n",
       "      <td>Civilian</td>\n",
       "    </tr>\n",
       "    <tr>\n",
       "      <th>567</th>\n",
       "      <td>pointsnfigures</td>\n",
       "      <td>574</td>\n",
       "      <td>0.47</td>\n",
       "      <td>16</td>\n",
       "      <td>0.17</td>\n",
       "      <td>Civilian</td>\n",
       "    </tr>\n",
       "    <tr>\n",
       "      <th>282</th>\n",
       "      <td>bwats</td>\n",
       "      <td>99</td>\n",
       "      <td>1.90</td>\n",
       "      <td>15</td>\n",
       "      <td>0.36</td>\n",
       "      <td>Former USVer</td>\n",
       "    </tr>\n",
       "    <tr>\n",
       "      <th>367</th>\n",
       "      <td>falicon</td>\n",
       "      <td>58</td>\n",
       "      <td>4.26</td>\n",
       "      <td>12</td>\n",
       "      <td>0.52</td>\n",
       "      <td>Civilian</td>\n",
       "    </tr>\n",
       "    <tr>\n",
       "      <th>450</th>\n",
       "      <td>jmonegro</td>\n",
       "      <td>178</td>\n",
       "      <td>0.87</td>\n",
       "      <td>11</td>\n",
       "      <td>0.32</td>\n",
       "      <td>Current USVer</td>\n",
       "    </tr>\n",
       "  </tbody>\n",
       "</table>\n",
       "</div>"
      ],
      "text/plain": [
       "             Poster  Post Count  Mean Comments  Conversations Sparked  \\\n",
       "257       aweissman         452           1.52                     45   \n",
       "381      fredwilson         542           1.46                     43   \n",
       "543    nickgrossman         295           2.19                     37   \n",
       "700       wmougayar         394           1.09                     30   \n",
       "235    albertwenger         143           2.97                     19   \n",
       "475      kidmercury         277           0.94                     17   \n",
       "567  pointsnfigures         574           0.47                     16   \n",
       "282           bwats          99           1.90                     15   \n",
       "367         falicon          58           4.26                     12   \n",
       "450        jmonegro         178           0.87                     11   \n",
       "\n",
       "     Percent Of Posts With Comments Relation To USV  \n",
       "257                            0.43   Current USVer  \n",
       "381                            0.39   Current USVer  \n",
       "543                            0.43   Current USVer  \n",
       "700                            0.31        Civilian  \n",
       "235                            0.39   Current USVer  \n",
       "475                            0.29        Civilian  \n",
       "567                            0.17        Civilian  \n",
       "282                            0.36    Former USVer  \n",
       "367                            0.52        Civilian  \n",
       "450                            0.32   Current USVer  "
      ]
     },
     "execution_count": 535,
     "metadata": {},
     "output_type": "execute_result"
    }
   ],
   "source": [
    "poster_metrics = ['poster','post_count','mean_comments','conversations_sparked',\n",
    "                  \"percent_of_posts_with_comments\",'relation_to_USV']\n",
    "output_columns(posters.sort_values('conversations_sparked',ascending=False)[poster_metrics].head(10).round(2))"
   ]
  },
  {
   "cell_type": "markdown",
   "metadata": {},
   "source": [
    "All of the data on posters is calculated from the posts's above. I also manually added whether or not the post works at USV or worked at USV as of Feb 2015, which is when I did this. The only difference is that Brittany worked at USV in Feb 2015 and now works at May 2016.\n",
    "\n"
   ]
  },
  {
   "cell_type": "code",
   "execution_count": 536,
   "metadata": {
    "collapsed": false
   },
   "outputs": [],
   "source": [
    "# Highest ranked non-USVer posters\n",
    "output_columns(posters.loc[(posters.ever_usver==False)& \n",
    "                           (posters.conversations_sparked>1)].sort_values('conversations_sparked')).to_csv('Top Posters.csv',index=False)"
   ]
  },
  {
   "cell_type": "markdown",
   "metadata": {},
   "source": [
    "## Current and Former USVers\n",
    "\n",
    "Here are the stats for all current USVers and alumni:"
   ]
  },
  {
   "cell_type": "code",
   "execution_count": 537,
   "metadata": {
    "collapsed": false
   },
   "outputs": [
    {
     "data": {
      "text/html": [
       "<div>\n",
       "<table border=\"1\" class=\"dataframe\">\n",
       "  <thead>\n",
       "    <tr style=\"text-align: right;\">\n",
       "      <th></th>\n",
       "      <th>Poster</th>\n",
       "      <th>Post Count</th>\n",
       "      <th>Mean Comments</th>\n",
       "      <th>Conversations Sparked</th>\n",
       "      <th>Percent Of Posts With Comments</th>\n",
       "      <th>Relation To USV</th>\n",
       "    </tr>\n",
       "  </thead>\n",
       "  <tbody>\n",
       "    <tr>\n",
       "      <th>455</th>\n",
       "      <td>johnbuttrick</td>\n",
       "      <td>33</td>\n",
       "      <td>1.42</td>\n",
       "      <td>2</td>\n",
       "      <td>0.42</td>\n",
       "      <td>Current USVer</td>\n",
       "    </tr>\n",
       "    <tr>\n",
       "      <th>278</th>\n",
       "      <td>br_ttany</td>\n",
       "      <td>79</td>\n",
       "      <td>0.91</td>\n",
       "      <td>6</td>\n",
       "      <td>0.27</td>\n",
       "      <td>Current USVer</td>\n",
       "    </tr>\n",
       "    <tr>\n",
       "      <th>490</th>\n",
       "      <td>libovness</td>\n",
       "      <td>89</td>\n",
       "      <td>1.58</td>\n",
       "      <td>9</td>\n",
       "      <td>0.36</td>\n",
       "      <td>Current USVer</td>\n",
       "    </tr>\n",
       "    <tr>\n",
       "      <th>33</th>\n",
       "      <td>BradUSV</td>\n",
       "      <td>94</td>\n",
       "      <td>1.24</td>\n",
       "      <td>10</td>\n",
       "      <td>0.15</td>\n",
       "      <td>Current USVer</td>\n",
       "    </tr>\n",
       "    <tr>\n",
       "      <th>235</th>\n",
       "      <td>albertwenger</td>\n",
       "      <td>143</td>\n",
       "      <td>2.97</td>\n",
       "      <td>19</td>\n",
       "      <td>0.39</td>\n",
       "      <td>Current USVer</td>\n",
       "    </tr>\n",
       "    <tr>\n",
       "      <th>450</th>\n",
       "      <td>jmonegro</td>\n",
       "      <td>178</td>\n",
       "      <td>0.87</td>\n",
       "      <td>11</td>\n",
       "      <td>0.32</td>\n",
       "      <td>Current USVer</td>\n",
       "    </tr>\n",
       "    <tr>\n",
       "      <th>543</th>\n",
       "      <td>nickgrossman</td>\n",
       "      <td>295</td>\n",
       "      <td>2.19</td>\n",
       "      <td>37</td>\n",
       "      <td>0.43</td>\n",
       "      <td>Current USVer</td>\n",
       "    </tr>\n",
       "    <tr>\n",
       "      <th>257</th>\n",
       "      <td>aweissman</td>\n",
       "      <td>452</td>\n",
       "      <td>1.52</td>\n",
       "      <td>45</td>\n",
       "      <td>0.43</td>\n",
       "      <td>Current USVer</td>\n",
       "    </tr>\n",
       "    <tr>\n",
       "      <th>381</th>\n",
       "      <td>fredwilson</td>\n",
       "      <td>542</td>\n",
       "      <td>1.46</td>\n",
       "      <td>43</td>\n",
       "      <td>0.39</td>\n",
       "      <td>Current USVer</td>\n",
       "    </tr>\n",
       "    <tr>\n",
       "      <th>67</th>\n",
       "      <td>EricFriedman</td>\n",
       "      <td>5</td>\n",
       "      <td>0.00</td>\n",
       "      <td>0</td>\n",
       "      <td>0.00</td>\n",
       "      <td>Former USVer</td>\n",
       "    </tr>\n",
       "    <tr>\n",
       "      <th>292</th>\n",
       "      <td>ceonyc</td>\n",
       "      <td>5</td>\n",
       "      <td>0.00</td>\n",
       "      <td>0</td>\n",
       "      <td>0.00</td>\n",
       "      <td>Former USVer</td>\n",
       "    </tr>\n",
       "    <tr>\n",
       "      <th>296</th>\n",
       "      <td>christinacaci</td>\n",
       "      <td>17</td>\n",
       "      <td>2.53</td>\n",
       "      <td>3</td>\n",
       "      <td>0.47</td>\n",
       "      <td>Former USVer</td>\n",
       "    </tr>\n",
       "    <tr>\n",
       "      <th>385</th>\n",
       "      <td>garychou</td>\n",
       "      <td>18</td>\n",
       "      <td>4.00</td>\n",
       "      <td>3</td>\n",
       "      <td>0.50</td>\n",
       "      <td>Former USVer</td>\n",
       "    </tr>\n",
       "    <tr>\n",
       "      <th>11</th>\n",
       "      <td>AlexanderPease</td>\n",
       "      <td>49</td>\n",
       "      <td>1.53</td>\n",
       "      <td>3</td>\n",
       "      <td>0.39</td>\n",
       "      <td>Former USVer</td>\n",
       "    </tr>\n",
       "    <tr>\n",
       "      <th>282</th>\n",
       "      <td>bwats</td>\n",
       "      <td>99</td>\n",
       "      <td>1.90</td>\n",
       "      <td>15</td>\n",
       "      <td>0.36</td>\n",
       "      <td>Former USVer</td>\n",
       "    </tr>\n",
       "  </tbody>\n",
       "</table>\n",
       "</div>"
      ],
      "text/plain": [
       "             Poster  Post Count  Mean Comments  Conversations Sparked  \\\n",
       "455    johnbuttrick          33           1.42                      2   \n",
       "278        br_ttany          79           0.91                      6   \n",
       "490       libovness          89           1.58                      9   \n",
       "33          BradUSV          94           1.24                     10   \n",
       "235    albertwenger         143           2.97                     19   \n",
       "450        jmonegro         178           0.87                     11   \n",
       "543    nickgrossman         295           2.19                     37   \n",
       "257       aweissman         452           1.52                     45   \n",
       "381      fredwilson         542           1.46                     43   \n",
       "67     EricFriedman           5           0.00                      0   \n",
       "292          ceonyc           5           0.00                      0   \n",
       "296   christinacaci          17           2.53                      3   \n",
       "385        garychou          18           4.00                      3   \n",
       "11   AlexanderPease          49           1.53                      3   \n",
       "282           bwats          99           1.90                     15   \n",
       "\n",
       "     Percent Of Posts With Comments Relation To USV  \n",
       "455                            0.42   Current USVer  \n",
       "278                            0.27   Current USVer  \n",
       "490                            0.36   Current USVer  \n",
       "33                             0.15   Current USVer  \n",
       "235                            0.39   Current USVer  \n",
       "450                            0.32   Current USVer  \n",
       "543                            0.43   Current USVer  \n",
       "257                            0.43   Current USVer  \n",
       "381                            0.39   Current USVer  \n",
       "67                             0.00    Former USVer  \n",
       "292                            0.00    Former USVer  \n",
       "296                            0.47    Former USVer  \n",
       "385                            0.50    Former USVer  \n",
       "11                             0.39    Former USVer  \n",
       "282                            0.36    Former USVer  "
      ]
     },
     "execution_count": 537,
     "metadata": {},
     "output_type": "execute_result"
    }
   ],
   "source": [
    "output_columns(posters.ix[posters.ever_usver,poster_metrics].sort_values(['relation_to_USV','post_count']))"
   ]
  },
  {
   "cell_type": "code",
   "execution_count": 538,
   "metadata": {
    "collapsed": false
   },
   "outputs": [],
   "source": [
    "# Create a csv of all USVers\n",
    "output_columns(posters.loc[posters.ever_usver==True].sort_values('conversations_sparked',ascending=False)).to_csv(\"USVers by the Numbers.csv\",index=False)"
   ]
  },
  {
   "cell_type": "markdown",
   "metadata": {},
   "source": [
    "## Infrequent, but High Value Posters\n",
    "\n",
    "This is a segment of posters that post infrequently, but have high per post engagment. This is a group that the community wants to hear more from. The cutoffs are:\n",
    "+ Averages more than 2 comments per post\n",
    "+ Posted between 5 and 15 times\n",
    "\n",
    "These cutoffs, like all cutoffs, are somewhat arbitrary. They felt directionally correct to me."
   ]
  },
  {
   "cell_type": "code",
   "execution_count": 539,
   "metadata": {
    "collapsed": false
   },
   "outputs": [
    {
     "data": {
      "text/html": [
       "<div>\n",
       "<table border=\"1\" class=\"dataframe\">\n",
       "  <thead>\n",
       "    <tr style=\"text-align: right;\">\n",
       "      <th></th>\n",
       "      <th>Poster</th>\n",
       "      <th>Post Count</th>\n",
       "      <th>Mean Comments</th>\n",
       "      <th>Conversations Sparked</th>\n",
       "      <th>Percent Of Posts With Comments</th>\n",
       "      <th>Relation To USV</th>\n",
       "    </tr>\n",
       "  </thead>\n",
       "  <tbody>\n",
       "    <tr>\n",
       "      <th>27</th>\n",
       "      <td>BenedictEvans</td>\n",
       "      <td>13</td>\n",
       "      <td>2.08</td>\n",
       "      <td>2</td>\n",
       "      <td>0.38</td>\n",
       "      <td>Civilian</td>\n",
       "    </tr>\n",
       "    <tr>\n",
       "      <th>349</th>\n",
       "      <td>ebellity</td>\n",
       "      <td>10</td>\n",
       "      <td>2.20</td>\n",
       "      <td>2</td>\n",
       "      <td>0.60</td>\n",
       "      <td>Civilian</td>\n",
       "    </tr>\n",
       "    <tr>\n",
       "      <th>293</th>\n",
       "      <td>cezinho</td>\n",
       "      <td>6</td>\n",
       "      <td>2.33</td>\n",
       "      <td>1</td>\n",
       "      <td>0.50</td>\n",
       "      <td>Civilian</td>\n",
       "    </tr>\n",
       "    <tr>\n",
       "      <th>594</th>\n",
       "      <td>rrhoover</td>\n",
       "      <td>14</td>\n",
       "      <td>2.43</td>\n",
       "      <td>3</td>\n",
       "      <td>0.64</td>\n",
       "      <td>Civilian</td>\n",
       "    </tr>\n",
       "    <tr>\n",
       "      <th>283</th>\n",
       "      <td>bwertz</td>\n",
       "      <td>9</td>\n",
       "      <td>2.67</td>\n",
       "      <td>3</td>\n",
       "      <td>0.67</td>\n",
       "      <td>Civilian</td>\n",
       "    </tr>\n",
       "    <tr>\n",
       "      <th>559</th>\n",
       "      <td>patrickjmorris</td>\n",
       "      <td>11</td>\n",
       "      <td>2.73</td>\n",
       "      <td>2</td>\n",
       "      <td>0.45</td>\n",
       "      <td>Civilian</td>\n",
       "    </tr>\n",
       "    <tr>\n",
       "      <th>229</th>\n",
       "      <td>adsy_me</td>\n",
       "      <td>12</td>\n",
       "      <td>2.75</td>\n",
       "      <td>1</td>\n",
       "      <td>0.42</td>\n",
       "      <td>Civilian</td>\n",
       "    </tr>\n",
       "    <tr>\n",
       "      <th>496</th>\n",
       "      <td>manuelmolina</td>\n",
       "      <td>6</td>\n",
       "      <td>2.83</td>\n",
       "      <td>1</td>\n",
       "      <td>0.83</td>\n",
       "      <td>Civilian</td>\n",
       "    </tr>\n",
       "    <tr>\n",
       "      <th>673</th>\n",
       "      <td>tomcritchlow</td>\n",
       "      <td>12</td>\n",
       "      <td>2.92</td>\n",
       "      <td>3</td>\n",
       "      <td>0.58</td>\n",
       "      <td>Civilian</td>\n",
       "    </tr>\n",
       "    <tr>\n",
       "      <th>456</th>\n",
       "      <td>johnfazzolari</td>\n",
       "      <td>5</td>\n",
       "      <td>3.00</td>\n",
       "      <td>1</td>\n",
       "      <td>0.40</td>\n",
       "      <td>Civilian</td>\n",
       "    </tr>\n",
       "    <tr>\n",
       "      <th>77</th>\n",
       "      <td>GeoffreyWeg</td>\n",
       "      <td>10</td>\n",
       "      <td>3.30</td>\n",
       "      <td>3</td>\n",
       "      <td>0.50</td>\n",
       "      <td>Civilian</td>\n",
       "    </tr>\n",
       "    <tr>\n",
       "      <th>323</th>\n",
       "      <td>davewiner</td>\n",
       "      <td>7</td>\n",
       "      <td>3.57</td>\n",
       "      <td>2</td>\n",
       "      <td>0.71</td>\n",
       "      <td>Civilian</td>\n",
       "    </tr>\n",
       "    <tr>\n",
       "      <th>522</th>\n",
       "      <td>moot</td>\n",
       "      <td>10</td>\n",
       "      <td>3.70</td>\n",
       "      <td>4</td>\n",
       "      <td>0.80</td>\n",
       "      <td>Civilian</td>\n",
       "    </tr>\n",
       "    <tr>\n",
       "      <th>568</th>\n",
       "      <td>ppearlman</td>\n",
       "      <td>11</td>\n",
       "      <td>3.73</td>\n",
       "      <td>2</td>\n",
       "      <td>0.27</td>\n",
       "      <td>Civilian</td>\n",
       "    </tr>\n",
       "    <tr>\n",
       "      <th>599</th>\n",
       "      <td>ryaneshea</td>\n",
       "      <td>5</td>\n",
       "      <td>4.80</td>\n",
       "      <td>2</td>\n",
       "      <td>0.80</td>\n",
       "      <td>Civilian</td>\n",
       "    </tr>\n",
       "    <tr>\n",
       "      <th>696</th>\n",
       "      <td>whitneymcn</td>\n",
       "      <td>5</td>\n",
       "      <td>5.00</td>\n",
       "      <td>2</td>\n",
       "      <td>0.40</td>\n",
       "      <td>Civilian</td>\n",
       "    </tr>\n",
       "    <tr>\n",
       "      <th>135</th>\n",
       "      <td>MsPseudolus</td>\n",
       "      <td>15</td>\n",
       "      <td>6.33</td>\n",
       "      <td>4</td>\n",
       "      <td>0.60</td>\n",
       "      <td>Civilian</td>\n",
       "    </tr>\n",
       "    <tr>\n",
       "      <th>460</th>\n",
       "      <td>jordancooper</td>\n",
       "      <td>7</td>\n",
       "      <td>6.57</td>\n",
       "      <td>2</td>\n",
       "      <td>0.57</td>\n",
       "      <td>Civilian</td>\n",
       "    </tr>\n",
       "  </tbody>\n",
       "</table>\n",
       "</div>"
      ],
      "text/plain": [
       "             Poster  Post Count  Mean Comments  Conversations Sparked  \\\n",
       "27    BenedictEvans          13           2.08                      2   \n",
       "349        ebellity          10           2.20                      2   \n",
       "293         cezinho           6           2.33                      1   \n",
       "594        rrhoover          14           2.43                      3   \n",
       "283          bwertz           9           2.67                      3   \n",
       "559  patrickjmorris          11           2.73                      2   \n",
       "229         adsy_me          12           2.75                      1   \n",
       "496    manuelmolina           6           2.83                      1   \n",
       "673    tomcritchlow          12           2.92                      3   \n",
       "456   johnfazzolari           5           3.00                      1   \n",
       "77      GeoffreyWeg          10           3.30                      3   \n",
       "323       davewiner           7           3.57                      2   \n",
       "522            moot          10           3.70                      4   \n",
       "568       ppearlman          11           3.73                      2   \n",
       "599       ryaneshea           5           4.80                      2   \n",
       "696      whitneymcn           5           5.00                      2   \n",
       "135     MsPseudolus          15           6.33                      4   \n",
       "460    jordancooper           7           6.57                      2   \n",
       "\n",
       "     Percent Of Posts With Comments Relation To USV  \n",
       "27                             0.38        Civilian  \n",
       "349                            0.60        Civilian  \n",
       "293                            0.50        Civilian  \n",
       "594                            0.64        Civilian  \n",
       "283                            0.67        Civilian  \n",
       "559                            0.45        Civilian  \n",
       "229                            0.42        Civilian  \n",
       "496                            0.83        Civilian  \n",
       "673                            0.58        Civilian  \n",
       "456                            0.40        Civilian  \n",
       "77                             0.50        Civilian  \n",
       "323                            0.71        Civilian  \n",
       "522                            0.80        Civilian  \n",
       "568                            0.27        Civilian  \n",
       "599                            0.80        Civilian  \n",
       "696                            0.40        Civilian  \n",
       "135                            0.60        Civilian  \n",
       "460                            0.57        Civilian  "
      ]
     },
     "execution_count": 539,
     "metadata": {},
     "output_type": "execute_result"
    }
   ],
   "source": [
    "output_columns(posters.ix[(posters.mean_comments>2)&\n",
    "           (posters.post_count>=5)&\n",
    "           (posters.post_count<=15),poster_metrics].sort_values('mean_comments'))\n",
    "\n",
    "# Uncoment and move up to output as a CSV\n",
    "# .to_csv('Occasional, but Valuable Posters.csv',index=False)"
   ]
  },
  {
   "cell_type": "code",
   "execution_count": 540,
   "metadata": {
    "collapsed": true
   },
   "outputs": [],
   "source": [
    "posts = posts.merge(posters[['poster','is_usver','ever_usver']],on='poster',how='left')"
   ]
  },
  {
   "cell_type": "markdown",
   "metadata": {},
   "source": [
    "## USVers vs Civilians\n",
    "\n"
   ]
  },
  {
   "cell_type": "markdown",
   "metadata": {},
   "source": [
    "This the average number of conversations sparked by posters based on their relationship to USV:"
   ]
  },
  {
   "cell_type": "code",
   "execution_count": 818,
   "metadata": {
    "collapsed": false
   },
   "outputs": [
    {
     "data": {
      "image/png": "[encoded data removed]",
      "text/plain": [
       "<matplotlib.figure.Figure at 0x10f52e890>"
      ]
     },
     "metadata": {},
     "output_type": "display_data"
    }
   ],
   "source": [
    "sns.barplot('relation_to_USV','conversations_sparked',data=posters, palette=\"Blues_d\",estimator=np.mean,ci=None)\n",
    "sns.plt.title(\"Current and Former USVers vs Civilians\")\n",
    "sns.axlabel(\"Relationship to USV\",\"Average Conversations Sparked\")\n",
    "plt.ylim(0,35)\n",
    "sns.plt.savefig(\"USVers vs Non-USVers (Top Posts).png\", dpi=100)"
   ]
  },
  {
   "cell_type": "markdown",
   "metadata": {},
   "source": [
    "Current USVers tend to spark more conversations. Could that be because the civilian category is weighed down by inactive accounts? "
   ]
  },
  {
   "cell_type": "markdown",
   "metadata": {},
   "source": [
    "Here is amount of current USVers, former USVers and Civilains who have posted."
   ]
  },
  {
   "cell_type": "code",
   "execution_count": 819,
   "metadata": {
    "collapsed": false
   },
   "outputs": [
    {
     "data": {
      "text/html": [
       "<div>\n",
       "<table border=\"1\" class=\"dataframe\">\n",
       "  <thead>\n",
       "    <tr style=\"text-align: right;\">\n",
       "      <th></th>\n",
       "      <th>Number of Unique Posters</th>\n",
       "    </tr>\n",
       "    <tr>\n",
       "      <th>relation_to_USV</th>\n",
       "      <th></th>\n",
       "    </tr>\n",
       "  </thead>\n",
       "  <tbody>\n",
       "    <tr>\n",
       "      <th>Civilian</th>\n",
       "      <td>699</td>\n",
       "    </tr>\n",
       "    <tr>\n",
       "      <th>Current USVer</th>\n",
       "      <td>9</td>\n",
       "    </tr>\n",
       "    <tr>\n",
       "      <th>Former USVer</th>\n",
       "      <td>6</td>\n",
       "    </tr>\n",
       "  </tbody>\n",
       "</table>\n",
       "</div>"
      ],
      "text/plain": [
       "                 Number of Unique Posters\n",
       "relation_to_USV                          \n",
       "Civilian                              699\n",
       "Current USVer                           9\n",
       "Former USVer                            6"
      ]
     },
     "execution_count": 819,
     "metadata": {},
     "output_type": "execute_result"
    }
   ],
   "source": [
    "posters.groupby('relation_to_USV').count()[['poster']].rename(columns={'poster':'Number of Unique Posters'})"
   ]
  },
  {
   "cell_type": "markdown",
   "metadata": {},
   "source": [
    "There are a lot more Civialians. Perhaps, it's not surpising their average was low. Below is the same plot, except it gets the maxium conversations sparked, instead of the average.\n"
   ]
  },
  {
   "cell_type": "code",
   "execution_count": 820,
   "metadata": {
    "collapsed": false
   },
   "outputs": [
    {
     "data": {
      "image/png": "[encoded data removed]",
      "text/plain": [
       "<matplotlib.figure.Figure at 0x11094c790>"
      ]
     },
     "metadata": {},
     "output_type": "display_data"
    }
   ],
   "source": [
    "sns.barplot('relation_to_USV','conversations_sparked',data=posters, palette=\"Blues_d\",estimator=np.max,ci=None)\n",
    "sns.plt.title(\"Current and Former USVers vs Civilians\")\n",
    "sns.axlabel(\"Has Worked For USV\",\"Max Conversations Sparked in Each Group\")\n",
    "plt.ylim(0,35)\n",
    "sns.plt.savefig(\"USVers vs Non-USVers (Top Posts).png\", dpi=100)"
   ]
  },
  {
   "cell_type": "markdown",
   "metadata": {},
   "source": [
    "As you can see, some Civilians (or at least one) have sparked a comparable number of discussions to the USVers. "
   ]
  },
  {
   "cell_type": "markdown",
   "metadata": {},
   "source": [
    "## Post Enagagement by Time Posted\n"
   ]
  },
  {
   "cell_type": "markdown",
   "metadata": {},
   "source": [
    "Does it matter what time of day a post is made?"
   ]
  },
  {
   "cell_type": "code",
   "execution_count": 551,
   "metadata": {
    "collapsed": false
   },
   "outputs": [
    {
     "data": {
      "text/plain": [
       "<matplotlib.text.Text at 0x11627f7d0>"
      ]
     },
     "execution_count": 551,
     "metadata": {},
     "output_type": "execute_result"
    },
    {
     "data": {
      "image/png": "[encoded data removed]",
      "text/plain": [
       "<matplotlib.figure.Figure at 0x116288e90>"
      ]
     },
     "metadata": {},
     "output_type": "display_data"
    }
   ],
   "source": [
    "posts.groupby(posts.date_created.dt.hour).mean()[['upvotes','comment_count']].plot(legend=True)\n",
    "plt.ylim(0,5)\n",
    "plt.title('USV.com -- Average Upvotes and Comments by Hour of the Day')\n",
    "plt.xlabel('Hour of the Day')\n",
    "plt.ylabel('Average Count')"
   ]
  },
  {
   "cell_type": "markdown",
   "metadata": {},
   "source": [
    "There is not a strong pattern between when something is posted and the number of upvotes and comments it recieves. \n",
    "\n",
    "\n",
    "This is what the same graph looks like for Product Hunt (data pulled from their API): "
   ]
  },
  {
   "cell_type": "code",
   "execution_count": 461,
   "metadata": {
    "collapsed": false
   },
   "outputs": [
    {
     "data": {
      "image/png": "[encoded data removed]",
      "text/plain": [
       "<IPython.core.display.Image object>"
      ]
     },
     "execution_count": 461,
     "metadata": {},
     "output_type": "execute_result"
    }
   ],
   "source": [
    "Image(filename='Counts and Upvotes by Hour - Product Hunt.png') "
   ]
  },
  {
   "cell_type": "markdown",
   "metadata": {},
   "source": [
    "Product Hunt has s strong pattern based on time of day. This is because Product Hunt resets every day. USV.com does not.\n",
    "\n",
    "This could indicate an opportunity. If USV.com built in a predictable time cycle, it could lead to habitual visits, posts and discussions. Reddit and Hacker News show you don't need a daily leaderboard that restart at midnight. However, people should expect to see new content at some time interval. AVC does this very well."
   ]
  },
  {
   "cell_type": "code",
   "execution_count": 821,
   "metadata": {
    "collapsed": false
   },
   "outputs": [],
   "source": [
    "\n",
    "##\n",
    "# posts.set_index('date_created')['comment_count'].resample('M').count()[:-1].plot()\n",
    "# That is the evolution of montly posts over time. USV.com was primarly a blog for occasional \n",
    "# posts from 2006 - 2013. You can see when USV.com allowed anyone to submit links. By number of \n",
    "# posts, this peaked in 2013. However, I think number of posts is the wrong metric."
   ]
  },
  {
   "cell_type": "markdown",
   "metadata": {},
   "source": [
    "# What Does The Community Like To Discuss?"
   ]
  },
  {
   "cell_type": "markdown",
   "metadata": {},
   "source": [
    "Before answering that, we must define \"like to discuss\". One way to define it is by number of comments. Here is the distribution of posts by the number of comments recieved:"
   ]
  },
  {
   "cell_type": "code",
   "execution_count": 460,
   "metadata": {
    "collapsed": false
   },
   "outputs": [
    {
     "name": "stdout",
     "output_type": "stream",
     "text": [
      "Comment Count Skew: 24.05\n"
     ]
    },
    {
     "data": {
      "image/png": "[encoded data removed]",
      "text/plain": [
       "<matplotlib.figure.Figure at 0x11f4ec2d0>"
      ]
     },
     "metadata": {},
     "output_type": "display_data"
    }
   ],
   "source": [
    "posts.comment_count.loc[posts.comment_count>=0].hist(bins=250)\n",
    "plt.xlabel('Number of Comments')\n",
    "plt.ylabel('Number of Posts')\n",
    "plt.title('Distribution of Comments')\n",
    "plt.savefig('Distribution of Comments.png')\n",
    "plt.xlim(0,50)\n",
    "print \"Comment Count Skew: \" + str(posts.comment_count.skew().round(2))"
   ]
  },
  {
   "cell_type": "markdown",
   "metadata": {},
   "source": [
    "As can be seen above, most posts get 0 or very few comments. The skew is very postive (23+). Let's define a popular post as one that sparks a discussion by getting at least 5 comments"
   ]
  },
  {
   "cell_type": "code",
   "execution_count": 90,
   "metadata": {
    "collapsed": false
   },
   "outputs": [],
   "source": [
    "# posts.comment_count.value_counts(normalize=True).round(4).sort_index()*100\n",
    "# That is the distribution of comments. As you can see, 73% of posts got no comments. 90% got 3 or fewer comments. "
   ]
  },
  {
   "cell_type": "code",
   "execution_count": 822,
   "metadata": {
    "collapsed": false
   },
   "outputs": [],
   "source": [
    "top5_cutoff = posts.comment_count.quantile(.95)\n",
    "# print \"The top 5%% of posts got at least %s comments so that will be the cutoff.\" %int(top5_cutoff)"
   ]
  },
  {
   "cell_type": "code",
   "execution_count": 558,
   "metadata": {
    "collapsed": false
   },
   "outputs": [],
   "source": [
    "posts['sparked_conversation'] = posts.comment_count>top5_cutoff\n",
    "posts['got_comments'] = posts.comment_count>0"
   ]
  },
  {
   "cell_type": "code",
   "execution_count": 559,
   "metadata": {
    "collapsed": false
   },
   "outputs": [],
   "source": [
    "posts[['title','body_text']] = posts[['title','body_text']].fillna('')"
   ]
  },
  {
   "cell_type": "markdown",
   "metadata": {},
   "source": [
    "Now, I will use the TF-IDF* weighting of one and two word phrases that appear in at least 20 posts titles. \n",
    "\n",
    "*TF-IDF, is just the word counts in each title relative to how rare the words are across titles"
   ]
  },
  {
   "cell_type": "code",
   "execution_count": 830,
   "metadata": {
    "collapsed": false
   },
   "outputs": [],
   "source": [
    "vec = CountVectorizer(ngram_range=(1,2),min_df=20,stop_words='english')\n",
    "X_words = vec.fit_transform(posts.title)"
   ]
  },
  {
   "cell_type": "code",
   "execution_count": 831,
   "metadata": {
    "collapsed": false
   },
   "outputs": [],
   "source": [
    "transformer = TfidfTransformer()\n",
    "tfidf = transformer.fit_transform(X_words)\n"
   ]
  },
  {
   "cell_type": "markdown",
   "metadata": {},
   "source": [
    "Now, I fit a logistic regression model using l1 regularization. This uses the tfidf words to predict whether or not the post will spark a conversation. Logistic regression is not the most predictive model, but it is interpretable, which is the goal of this. \n",
    "\n",
    "Note that data set is  small to do proper cross validation. Instead, I am using regularization and requring a phrase to appear 20+ times to reduce overfitting. Even so, I wouldn't try to make predictions with this model."
   ]
  },
  {
   "cell_type": "code",
   "execution_count": 832,
   "metadata": {
    "collapsed": false
   },
   "outputs": [
    {
     "name": "stdout",
     "output_type": "stream",
     "text": [
      "\n"
     ]
    }
   ],
   "source": [
    "y = posts.sparked_conversation\n",
    "model = LogisticRegression(penalty='l2')\n",
    "model.fit(tfidf,y)\n",
    "print "
   ]
  },
  {
   "cell_type": "code",
   "execution_count": 833,
   "metadata": {
    "collapsed": false
   },
   "outputs": [],
   "source": [
    "vocab = zip(vec.get_feature_names(),\n",
    "            model.coef_[0])\n",
    "\n",
    "df_vocab = pd.DataFrame(vocab)"
   ]
  },
  {
   "cell_type": "markdown",
   "metadata": {},
   "source": [
    "The higher the coef, the more likely a word is to spark a conversation. Here are the top 20 words:"
   ]
  },
  {
   "cell_type": "code",
   "execution_count": 835,
   "metadata": {
    "collapsed": false
   },
   "outputs": [
    {
     "data": {
      "text/html": [
       "<div>\n",
       "<table border=\"1\" class=\"dataframe\">\n",
       "  <thead>\n",
       "    <tr style=\"text-align: right;\">\n",
       "      <th></th>\n",
       "      <th>word</th>\n",
       "      <th>coef</th>\n",
       "    </tr>\n",
       "  </thead>\n",
       "  <tbody>\n",
       "    <tr>\n",
       "      <th>315</th>\n",
       "      <td>usv</td>\n",
       "      <td>2.772766</td>\n",
       "    </tr>\n",
       "    <tr>\n",
       "      <th>147</th>\n",
       "      <td>introducing</td>\n",
       "      <td>1.483714</td>\n",
       "    </tr>\n",
       "    <tr>\n",
       "      <th>20</th>\n",
       "      <td>ask usv</td>\n",
       "      <td>1.309939</td>\n",
       "    </tr>\n",
       "    <tr>\n",
       "      <th>264</th>\n",
       "      <td>self</td>\n",
       "      <td>1.247119</td>\n",
       "    </tr>\n",
       "    <tr>\n",
       "      <th>43</th>\n",
       "      <td>car</td>\n",
       "      <td>1.203155</td>\n",
       "    </tr>\n",
       "    <tr>\n",
       "      <th>53</th>\n",
       "      <td>code</td>\n",
       "      <td>1.181710</td>\n",
       "    </tr>\n",
       "    <tr>\n",
       "      <th>89</th>\n",
       "      <td>economy</td>\n",
       "      <td>1.093197</td>\n",
       "    </tr>\n",
       "    <tr>\n",
       "      <th>275</th>\n",
       "      <td>snapchat</td>\n",
       "      <td>1.079421</td>\n",
       "    </tr>\n",
       "    <tr>\n",
       "      <th>168</th>\n",
       "      <td>let</td>\n",
       "      <td>1.054378</td>\n",
       "    </tr>\n",
       "    <tr>\n",
       "      <th>80</th>\n",
       "      <td>did</td>\n",
       "      <td>1.043933</td>\n",
       "    </tr>\n",
       "    <tr>\n",
       "      <th>306</th>\n",
       "      <td>trust</td>\n",
       "      <td>1.012399</td>\n",
       "    </tr>\n",
       "    <tr>\n",
       "      <th>216</th>\n",
       "      <td>open</td>\n",
       "      <td>0.995027</td>\n",
       "    </tr>\n",
       "    <tr>\n",
       "      <th>328</th>\n",
       "      <td>vs</td>\n",
       "      <td>0.971555</td>\n",
       "    </tr>\n",
       "    <tr>\n",
       "      <th>44</th>\n",
       "      <td>case</td>\n",
       "      <td>0.968341</td>\n",
       "    </tr>\n",
       "    <tr>\n",
       "      <th>30</th>\n",
       "      <td>bitcoin</td>\n",
       "      <td>0.965480</td>\n",
       "    </tr>\n",
       "    <tr>\n",
       "      <th>64</th>\n",
       "      <td>crowdfunding</td>\n",
       "      <td>0.961925</td>\n",
       "    </tr>\n",
       "    <tr>\n",
       "      <th>270</th>\n",
       "      <td>silicon</td>\n",
       "      <td>0.959581</td>\n",
       "    </tr>\n",
       "    <tr>\n",
       "      <th>163</th>\n",
       "      <td>lead</td>\n",
       "      <td>0.949660</td>\n",
       "    </tr>\n",
       "    <tr>\n",
       "      <th>82</th>\n",
       "      <td>disruption</td>\n",
       "      <td>0.930395</td>\n",
       "    </tr>\n",
       "    <tr>\n",
       "      <th>92</th>\n",
       "      <td>employees</td>\n",
       "      <td>0.894577</td>\n",
       "    </tr>\n",
       "  </tbody>\n",
       "</table>\n",
       "</div>"
      ],
      "text/plain": [
       "             word      coef\n",
       "315           usv  2.772766\n",
       "147   introducing  1.483714\n",
       "20        ask usv  1.309939\n",
       "264          self  1.247119\n",
       "43            car  1.203155\n",
       "53           code  1.181710\n",
       "89        economy  1.093197\n",
       "275      snapchat  1.079421\n",
       "168           let  1.054378\n",
       "80            did  1.043933\n",
       "306         trust  1.012399\n",
       "216          open  0.995027\n",
       "328            vs  0.971555\n",
       "44           case  0.968341\n",
       "30        bitcoin  0.965480\n",
       "64   crowdfunding  0.961925\n",
       "270       silicon  0.959581\n",
       "163          lead  0.949660\n",
       "82     disruption  0.930395\n",
       "92      employees  0.894577"
      ]
     },
     "execution_count": 835,
     "metadata": {},
     "output_type": "execute_result"
    }
   ],
   "source": [
    "df_vocab.columns = ['word','coef']\n",
    "df_vocab.sort_values('coef',ascending=False).head(20)"
   ]
  },
  {
   "cell_type": "markdown",
   "metadata": {},
   "source": [
    "# Topics on USV.com\n",
    "\n",
    "Above we looked at the titles. Now, let's check out the post description. By using [non-negative matrix factorization](https://en.wikipedia.org/wiki/Non-negative_matrix_factorization), I tried to pull out topics.\n",
    "\n",
    "The post descriptions have too few words for perfectly reliable topic models. Many topics were sensitive to hyperparamters. Even with all of the noise, there were still some topics that stood out.\n",
    "\n",
    "Below are some topics and their top 10 words. I did not use tags to find these. This came soley from which words appear together in descriptions. "
   ]
  },
  {
   "cell_type": "code",
   "execution_count": 839,
   "metadata": {
    "collapsed": false
   },
   "outputs": [],
   "source": [
    "posts['body_text_raw'] = posts.body_text\n",
    "posts['body_text_clean'] = posts.body_text.str.replace(r'\\[a-z][a-z][1-9]\\[a-z][a-z][a-z]', '', case=False)\n",
    "posts['body_text_clean'] = posts.body_text_clean.str.replace('\\'', '', case=False)\n",
    "posts['body_text_clean'] = posts.body_text_clean.str.replace('[a-z]/[a-z]', '', case=False)"
   ]
  },
  {
   "cell_type": "code",
   "execution_count": 840,
   "metadata": {
    "collapsed": false
   },
   "outputs": [],
   "source": [
    "custom_stopwords= ['looks','look','read','great','good','dont','really','done','kik','lets',\n",
    "           'http','let','just','that','thats','like','lot','interesting','think','im',\n",
    "           'thought','thoughts','id','love','twitter']\n",
    "\n",
    "my_stop_words = text.ENGLISH_STOP_WORDS.union(custom_stopwords)"
   ]
  },
  {
   "cell_type": "code",
   "execution_count": 841,
   "metadata": {
    "collapsed": false
   },
   "outputs": [],
   "source": [
    "# This step performs the vectorization,\n",
    "# tf-idf, stop word extraction, and normalization.\n",
    "# It assumes docs is a Python list,\n",
    "#with reviews as its elements.\n",
    "cv = TfidfVectorizer(ngram_range=[1,1],max_df=0.6, min_df=4,stop_words=my_stop_words)\n",
    "doc_term_matrix = cv.fit_transform(posts.body_text_clean)\n",
    " \n",
    "# The tokens can be extracted as:\n",
    "vocab = cv.get_feature_names()"
   ]
  },
  {
   "cell_type": "code",
   "execution_count": 842,
   "metadata": {
    "collapsed": false
   },
   "outputs": [],
   "source": [
    "#trial and error got me to 45\n",
    "num_topics = 45\n",
    "#doctopic is the W matrix\n",
    "decomp = decomposition.NMF(n_components = num_topics, random_state=50,init = 'nndsvda')\n",
    "doctopic = decomp.fit_transform(doc_term_matrix)"
   ]
  },
  {
   "cell_type": "code",
   "execution_count": 843,
   "metadata": {
    "collapsed": false
   },
   "outputs": [],
   "source": [
    "n_top_words = 10\n",
    "topic_words = []\n",
    "for topic in decomp.components_:\n",
    "    idx = np.argsort(topic)[::-1][0:n_top_words]\n",
    "    topic_words.append([vocab[i] for i in idx])"
   ]
  },
  {
   "cell_type": "code",
   "execution_count": 844,
   "metadata": {
    "collapsed": false
   },
   "outputs": [],
   "source": [
    "topic_names = [\n",
    "    \"Web Services\", \"Bitcoin and Blockchain\",\"AVC or Continuations\",\"Customer Success\",\n",
    "    \"Mobile\",\"USV Community\",\"Startup Ecosystems\",\"Data Privacy and Security\",0,\"Net Neutrality\",1,\"Long Read\",2,\n",
    "    \"Venture Capital\",3,\"Tech Job Market\",\"HTML Tags\",\"Internt Access\",4,\"Markets\",\"Test Post\",\n",
    "    \"Big 4 Tech Co's\",\"Linux & Cloud\",\"Business Models\",\"App Store\",5,6,7,8,9,10,11,\"iOS vs Android\",12,\n",
    "    \"AVC Posts\",13,14,\"Community Feedback\",\"Technology and Patents\",\"Video\",\"Startup Building\",15,\n",
    "    \"Open Source\",\"Product Development\",16\n",
    "              ]"
   ]
  },
  {
   "cell_type": "code",
   "execution_count": 845,
   "metadata": {
    "collapsed": false,
    "scrolled": false
   },
   "outputs": [
    {
     "name": "stdout",
     "output_type": "stream",
     "text": [
      "Topic: Web Services\n",
      "Top words: web, services, service, users, social, network, information, networks, content, media\n",
      "\n",
      "Topic: Bitcoin and Blockchain\n",
      "Top words: bitcoin, currency, blockchain, exchange, coinbase, money, mining, transactions, digital, value\n",
      "\n",
      "Topic: AVC or Continuations\n",
      "Top words: post, blog, alberts, freds, wrote, rand, comments, founder, earlier, news\n",
      "\n",
      "Topic: Customer Success\n",
      "Top words: customer, success, customers, gainsight, management, service, important, marketing, satisfaction, successful\n",
      "\n",
      "Topic: Mobile\n",
      "Top words: mobile, app, design, facebook, future, device, experience, devices, market, messaging\n",
      "\n",
      "Topic: USV Community\n",
      "Top words: usv, com, posting, cross, www, avc, mikecollett, fred, list, team\n",
      "\n",
      "Topic: Startup Ecosystems\n",
      "Top words: startup, ecosystem, build, life, hear, story, mistakes, founders, key, thinking\n",
      "\n",
      "Topic: Data Privacy and Security\n",
      "Top words: data, privacy, users, security, science, market, messenger, point, visualization, using\n",
      "\n",
      "Topic: Net Neutrality\n",
      "Top words: net, neutrality, fight, fcc, different, case, piece, marc, thing, end\n",
      "\n",
      "Topic: Long Read\n",
      "Top words: nice, essay, analysis, interview, kickstarter, amazon, piece, transparency, equity, write\n",
      "\n",
      "Topic: Venture Capital\n",
      "Top words: startups, invest, vcs, investors, advice, growth, businesses, founders, money, point\n",
      "\n",
      "Topic: Tech Job Market\n",
      "Top words: tech, job, nyc, women, culture, future, talks, innovation, ny, chicago\n",
      "\n",
      "Topic: HTML Tags\n",
      "Top words: div, class, story, review, section, media, social, gives, footer, image\n",
      "\n",
      "Topic: Internt Access\n",
      "Top words: internet, things, access, online, security, future, fcc, privacy, freedom, public\n",
      "\n",
      "Topic: Markets\n",
      "Top words: android, microsoft, apple, ios, windows, patent, operating, phone, end, market\n",
      "\n",
      "Topic: Test Post\n",
      "Top words: testing, security, usvs, real, conversation, simulations, platform, list, cloudflare, albert\n",
      "\n",
      "Topic: Big 4 Tech Co's\n",
      "Top words: google, search, results, facebook, https, apple, nsa, amazon, car, reading\n",
      "\n",
      "Topic: Linux & Cloud\n",
      "Top words: cloud, linux, red, hat, enterprise, openstack, latest, security, ubuntu, storage\n",
      "\n",
      "Topic: Business Models\n",
      "Top words: business, model, start, help, analysis, models, end, small, businesses, simple\n",
      "\n",
      "Topic: App Store\n",
      "Top words: apps, list, native, platform, social, different, million, users, developers, wonder\n",
      "\n",
      "Topic: iOS vs Android\n",
      "Top words: company, building, portfolio, team, start, things, culture, run, amazing, acquired\n",
      "\n",
      "Topic: AVC Posts\n",
      "Top words: today, talk, avc, wrote, amazing, amazon, share, brief, youtube, announced\n",
      "\n",
      "Topic: Community Feedback\n",
      "Top words: community, feedback, value, ownership, sharing, online, building, interested, equity, invite\n",
      "\n",
      "Topic: Technology and Patents\n",
      "Top words: technology, software, innovation, patent, patents, piece, disruptive, peer, impact, education\n",
      "\n",
      "Topic: Video\n",
      "Top words: video, content, interview, marketing, media, watch, music, youtube, week, creators\n",
      "\n",
      "Topic: Startup Building\n",
      "Top words: companies, capital, investors, venture, market, vc, investment, angel, investing, funding\n",
      "\n",
      "Topic: Open Source\n",
      "Top words: open, source, software, project, platform, foundation, yes, code, projects, networking\n",
      "\n",
      "Topic: Product Development\n",
      "Top words: product, building, products, amazing, hunt, team, design, important, growth, user\n",
      "\n"
     ]
    }
   ],
   "source": [
    "for count,i in enumerate(topic_words):\n",
    "    if isinstance(topic_names[count],int):\n",
    "        pass\n",
    "    else:\n",
    "        print \"Topic: %s\"%topic_names[count]\n",
    "        print \"Top words: \" + \", \".join(i)\n",
    "        print"
   ]
  },
  {
   "cell_type": "code",
   "execution_count": 730,
   "metadata": {
    "collapsed": false
   },
   "outputs": [],
   "source": [
    "test= pd.DataFrame(decomp.components_)\n",
    "test.columns = vocab"
   ]
  },
  {
   "cell_type": "code",
   "execution_count": 731,
   "metadata": {
    "collapsed": false
   },
   "outputs": [],
   "source": [
    "posts['clean_upvotes']= posts.voted_users.str.replace('^u|\\'|\\[|\\]','')\n",
    "users_votes = posts.clean_upvotes.str.get_dummies(\",\")"
   ]
  },
  {
   "cell_type": "code",
   "execution_count": 732,
   "metadata": {
    "collapsed": false
   },
   "outputs": [],
   "source": [
    "users_votes.columns = users_votes.columns.to_series().str.replace('^u','')"
   ]
  },
  {
   "cell_type": "code",
   "execution_count": 733,
   "metadata": {
    "collapsed": false
   },
   "outputs": [],
   "source": [
    "posts = pd.concat([posts,users_votes],axis=1)"
   ]
  },
  {
   "cell_type": "code",
   "execution_count": 846,
   "metadata": {
    "collapsed": false
   },
   "outputs": [
    {
     "name": "stdout",
     "output_type": "stream",
     "text": [
      "\n"
     ]
    }
   ],
   "source": [
    "model = LogisticRegression(penalty='l2')\n",
    "y = posts.sparked_conversation\n",
    "model.fit(doctopic,y)\n",
    "print"
   ]
  },
  {
   "cell_type": "markdown",
   "metadata": {},
   "source": [
    "This is how well a topic predicts if the community will discuss it. This is grossly simplifying. Topic popularity should changes over time. Different user segments probably have different preferences. Even so, it's quite interesting."
   ]
  },
  {
   "cell_type": "code",
   "execution_count": 847,
   "metadata": {
    "collapsed": false,
    "scrolled": false
   },
   "outputs": [
    {
     "data": {
      "text/html": [
       "<div>\n",
       "<table border=\"1\" class=\"dataframe\">\n",
       "  <thead>\n",
       "    <tr style=\"text-align: right;\">\n",
       "      <th></th>\n",
       "      <th>Topic</th>\n",
       "      <th>Coefficent</th>\n",
       "    </tr>\n",
       "  </thead>\n",
       "  <tbody>\n",
       "    <tr>\n",
       "      <th>5</th>\n",
       "      <td>USV Community</td>\n",
       "      <td>2.79843</td>\n",
       "    </tr>\n",
       "    <tr>\n",
       "      <th>1</th>\n",
       "      <td>Bitcoin and Blockchain</td>\n",
       "      <td>2.09516</td>\n",
       "    </tr>\n",
       "    <tr>\n",
       "      <th>2</th>\n",
       "      <td>AVC or Continuations</td>\n",
       "      <td>2.0201</td>\n",
       "    </tr>\n",
       "    <tr>\n",
       "      <th>37</th>\n",
       "      <td>Community Feedback</td>\n",
       "      <td>1.0116</td>\n",
       "    </tr>\n",
       "    <tr>\n",
       "      <th>24</th>\n",
       "      <td>App Store</td>\n",
       "      <td>0.85171</td>\n",
       "    </tr>\n",
       "    <tr>\n",
       "      <th>4</th>\n",
       "      <td>Mobile</td>\n",
       "      <td>0.708065</td>\n",
       "    </tr>\n",
       "    <tr>\n",
       "      <th>17</th>\n",
       "      <td>Internt Access</td>\n",
       "      <td>0.5402</td>\n",
       "    </tr>\n",
       "    <tr>\n",
       "      <th>34</th>\n",
       "      <td>AVC Posts</td>\n",
       "      <td>0.470501</td>\n",
       "    </tr>\n",
       "    <tr>\n",
       "      <th>0</th>\n",
       "      <td>Web Services</td>\n",
       "      <td>0.452506</td>\n",
       "    </tr>\n",
       "    <tr>\n",
       "      <th>38</th>\n",
       "      <td>Technology and Patents</td>\n",
       "      <td>0.353975</td>\n",
       "    </tr>\n",
       "    <tr>\n",
       "      <th>43</th>\n",
       "      <td>Product Development</td>\n",
       "      <td>0.262379</td>\n",
       "    </tr>\n",
       "    <tr>\n",
       "      <th>42</th>\n",
       "      <td>Open Source</td>\n",
       "      <td>0.197744</td>\n",
       "    </tr>\n",
       "    <tr>\n",
       "      <th>21</th>\n",
       "      <td>Big 4 Tech Co's</td>\n",
       "      <td>0.191889</td>\n",
       "    </tr>\n",
       "    <tr>\n",
       "      <th>40</th>\n",
       "      <td>Startup Building</td>\n",
       "      <td>0.134794</td>\n",
       "    </tr>\n",
       "    <tr>\n",
       "      <th>39</th>\n",
       "      <td>Video</td>\n",
       "      <td>0.115053</td>\n",
       "    </tr>\n",
       "    <tr>\n",
       "      <th>13</th>\n",
       "      <td>Venture Capital</td>\n",
       "      <td>0.0783075</td>\n",
       "    </tr>\n",
       "    <tr>\n",
       "      <th>9</th>\n",
       "      <td>Net Neutrality</td>\n",
       "      <td>0.0504006</td>\n",
       "    </tr>\n",
       "    <tr>\n",
       "      <th>6</th>\n",
       "      <td>Startup Ecosystems</td>\n",
       "      <td>0.0124453</td>\n",
       "    </tr>\n",
       "    <tr>\n",
       "      <th>23</th>\n",
       "      <td>Business Models</td>\n",
       "      <td>-0.121243</td>\n",
       "    </tr>\n",
       "    <tr>\n",
       "      <th>11</th>\n",
       "      <td>Long Read</td>\n",
       "      <td>-0.123889</td>\n",
       "    </tr>\n",
       "    <tr>\n",
       "      <th>19</th>\n",
       "      <td>Markets</td>\n",
       "      <td>-0.135989</td>\n",
       "    </tr>\n",
       "    <tr>\n",
       "      <th>32</th>\n",
       "      <td>iOS vs Android</td>\n",
       "      <td>-0.159303</td>\n",
       "    </tr>\n",
       "    <tr>\n",
       "      <th>20</th>\n",
       "      <td>Test Post</td>\n",
       "      <td>-0.198601</td>\n",
       "    </tr>\n",
       "    <tr>\n",
       "      <th>15</th>\n",
       "      <td>Tech Job Market</td>\n",
       "      <td>-0.270777</td>\n",
       "    </tr>\n",
       "    <tr>\n",
       "      <th>7</th>\n",
       "      <td>Data Privacy and Security</td>\n",
       "      <td>-0.282444</td>\n",
       "    </tr>\n",
       "    <tr>\n",
       "      <th>16</th>\n",
       "      <td>HTML Tags</td>\n",
       "      <td>-0.289521</td>\n",
       "    </tr>\n",
       "    <tr>\n",
       "      <th>3</th>\n",
       "      <td>Customer Success</td>\n",
       "      <td>-0.339316</td>\n",
       "    </tr>\n",
       "    <tr>\n",
       "      <th>22</th>\n",
       "      <td>Linux &amp; Cloud</td>\n",
       "      <td>-0.600329</td>\n",
       "    </tr>\n",
       "  </tbody>\n",
       "</table>\n",
       "</div>"
      ],
      "text/plain": [
       "                        Topic Coefficent\n",
       "5               USV Community    2.79843\n",
       "1      Bitcoin and Blockchain    2.09516\n",
       "2        AVC or Continuations     2.0201\n",
       "37         Community Feedback     1.0116\n",
       "24                  App Store    0.85171\n",
       "4                      Mobile   0.708065\n",
       "17             Internt Access     0.5402\n",
       "34                  AVC Posts   0.470501\n",
       "0                Web Services   0.452506\n",
       "38     Technology and Patents   0.353975\n",
       "43        Product Development   0.262379\n",
       "42                Open Source   0.197744\n",
       "21            Big 4 Tech Co's   0.191889\n",
       "40           Startup Building   0.134794\n",
       "39                      Video   0.115053\n",
       "13            Venture Capital  0.0783075\n",
       "9              Net Neutrality  0.0504006\n",
       "6          Startup Ecosystems  0.0124453\n",
       "23            Business Models  -0.121243\n",
       "11                  Long Read  -0.123889\n",
       "19                    Markets  -0.135989\n",
       "32             iOS vs Android  -0.159303\n",
       "20                  Test Post  -0.198601\n",
       "15            Tech Job Market  -0.270777\n",
       "7   Data Privacy and Security  -0.282444\n",
       "16                  HTML Tags  -0.289521\n",
       "3            Customer Success  -0.339316\n",
       "22              Linux & Cloud  -0.600329"
      ]
     },
     "execution_count": 847,
     "metadata": {},
     "output_type": "execute_result"
    }
   ],
   "source": [
    "community_topics = pd.DataFrame([pd.Series(topic_names),model.coef_[0]]).T.sort_values(1,ascending=False)\n",
    "community_topics.columns=[\"Topic\",\"Coefficent\"]\n",
    "community_topics[community_topics.Topic.map(lambda x: type(x))!=float]"
   ]
  },
  {
   "cell_type": "markdown",
   "metadata": {},
   "source": [
    "## User Interests\n",
    "\n",
    "Here I use the title and topics to predict if a user will upvote something. By doing that, we get a profile of topics and title words a user likely finds interesting. Here are some examples:"
   ]
  },
  {
   "cell_type": "code",
   "execution_count": 848,
   "metadata": {
    "collapsed": true
   },
   "outputs": [],
   "source": [
    "# Remake the tfidf word matric with a threshold of 10 instead of 20 counts. \n",
    "vec_user_profiles = TfidfVectorizer(ngram_range=(1,1),min_df=10,stop_words='english')\n",
    "X_words = vec_user_profiles.fit_transform(posts.title)"
   ]
  },
  {
   "cell_type": "code",
   "execution_count": 859,
   "metadata": {
    "collapsed": false
   },
   "outputs": [],
   "source": [
    "def get_user_profile(user):\n",
    "    model_topics = LogisticRegression(penalty='l2')\n",
    "    y = users_votes[user]\n",
    "    model_topics.fit(doctopic,y)\n",
    "    \n",
    "    vocab_topics = zip(topic_names,model_topics.coef_[0])\n",
    "    df_vocab_topics = pd.DataFrame(vocab_topics)\n",
    "    df_vocab_topics.columns = ['Topic','coef']\n",
    "    df_vocab_topics = df_vocab_topics[(df_vocab_topics.coef>0)&\n",
    "                                      (df_vocab_topics.Topic.map(lambda x: type(x))!=int)]\n",
    "    \n",
    "    model_words = LogisticRegression(penalty='l2')\n",
    "    y = users_votes[user]\n",
    "    model_words.fit(X_words,y)\n",
    "    \n",
    "    vocab = zip(vec_user_profiles.get_feature_names(),model_words.coef_[0])\n",
    "\n",
    "    df_vocab = pd.DataFrame(vocab)\n",
    "    df_vocab.columns = ['word','coef']\n",
    "    df_vocab = df_vocab[df_vocab.coef>0]\n",
    "    \n",
    "    print user\n",
    "    print\n",
    "    print \"Favorite Topics: \" +\\\n",
    "    \", \".join(df_vocab_topics.sort_values('coef',ascending=False).head(10)['Topic'])\n",
    "    print \n",
    "    print \"Favorite Words: \" +\\\n",
    "    \", \".join(df_vocab.sort_values('coef',ascending=False).head(25)['word'])\n",
    "    return None"
   ]
  },
  {
   "cell_type": "code",
   "execution_count": 862,
   "metadata": {
    "collapsed": false
   },
   "outputs": [
    {
     "name": "stdout",
     "output_type": "stream",
     "text": [
      "nickgrossman\n",
      "\n",
      "Favorite Topics: Net Neutrality, Internt Access, Data Privacy and Security, USV Community, AVC Posts, Video, Test Post, Open Source, HTML Tags, Markets\n",
      "\n",
      "Favorite Words: nytimes, comcast, fcc, techdirt, hunch, ignore, test, grossman, neutrality, nick, slow, internet, obama, privacy, anti, washington, health, verizon, surveillance, cities, uber, free, snowden, trust, policy\n"
     ]
    }
   ],
   "source": [
    "get_user_profile('nickgrossman')"
   ]
  },
  {
   "cell_type": "code",
   "execution_count": 863,
   "metadata": {
    "collapsed": false
   },
   "outputs": [
    {
     "name": "stdout",
     "output_type": "stream",
     "text": [
      "albertwenger\n",
      "\n",
      "Favorite Topics: Open Source, Web Services, Technology and Patents, Startup Building, Internt Access, Net Neutrality, AVC Posts, Data Privacy and Security, AVC or Continuations, Mobile\n",
      "\n",
      "Favorite Words: continuations, hiring, foursquare, com, wired, update, human, medium, wattpad, revolution, longer, hunt, org, brand, income, computer, age, 500, network, analysis, notes, mit, marketplaces, news, platform\n"
     ]
    }
   ],
   "source": [
    "get_user_profile('albertwenger')"
   ]
  },
  {
   "cell_type": "code",
   "execution_count": 861,
   "metadata": {
    "collapsed": false
   },
   "outputs": [
    {
     "name": "stdout",
     "output_type": "stream",
     "text": [
      "BenedictEvans\n",
      "\n",
      "Favorite Topics: Markets, Mobile, Internt Access, Tech Job Market, Product Development, Big 4 Tech Co's\n",
      "\n",
      "Favorite Words: android, benedict, price, really, mobile, twitter, instagram, self, iphone, youtube, use, scale, evans, dead, facebook, foundation, value, technology, networks, does, platform, social, google\n"
     ]
    }
   ],
   "source": [
    "get_user_profile('BenedictEvans')"
   ]
  },
  {
   "cell_type": "code",
   "execution_count": 864,
   "metadata": {
    "collapsed": false
   },
   "outputs": [
    {
     "name": "stdout",
     "output_type": "stream",
     "text": [
      "fredwilson\n",
      "\n",
      "Favorite Topics: AVC or Continuations, AVC Posts, USV Community, Startup Building, Bitcoin and Blockchain, iOS vs Android, Long Read, Web Services, Business Models, Net Neutrality\n",
      "\n",
      "Favorite Words: avc, vc, cliche, techcrunch, panel, continuations, coinbase, week, kik, kickstarter, wsj, talk, friday, blog, albert, evans, twitter, benedict, foursquare, looking, thoughts, capitalism, sessions, atlantic, duckduckgo\n"
     ]
    }
   ],
   "source": [
    "get_user_profile('fredwilson')"
   ]
  },
  {
   "cell_type": "code",
   "execution_count": 873,
   "metadata": {
    "collapsed": false
   },
   "outputs": [
    {
     "name": "stdout",
     "output_type": "stream",
     "text": [
      "aweissman\n",
      "\n",
      "Favorite Topics: Long Read, Data Privacy and Security, App Store, Big 4 Tech Co's, Open Source, Internt Access, Startup Building, Mobile, USV Community\n",
      "\n",
      "Favorite Words: music, yorker, medium, youtube, blog, angellist, com, peer, banks, app, evans, circle, ben, fiber, code, life, indie, funding, ve, beat, billion, bloomberg, free, economist, watch\n"
     ]
    }
   ],
   "source": [
    "get_user_profile('aweissman')"
   ]
  },
  {
   "cell_type": "code",
   "execution_count": 872,
   "metadata": {
    "collapsed": false
   },
   "outputs": [
    {
     "name": "stdout",
     "output_type": "stream",
     "text": [
      "jmonegro\n",
      "\n",
      "Favorite Topics: \n",
      "\n",
      "Favorite Words: decentralized, blockchain, plan, distributed, wireless, communication, secure, messaging, based, market, 000, paypal, firm, paid, devices, bitcoin, post, stock, hard, email, change, sharing, trends, time, washington\n",
      "\n",
      "The words worked much better than the topics for Joel\n"
     ]
    }
   ],
   "source": [
    "get_user_profile('jmonegro')\n",
    "print \n",
    "print \"The words worked much better than the topics for Joel\""
   ]
  },
  {
   "cell_type": "code",
   "execution_count": 865,
   "metadata": {
    "collapsed": false
   },
   "outputs": [
    {
     "name": "stdout",
     "output_type": "stream",
     "text": [
      "pointsnfigures\n",
      "\n",
      "Favorite Topics: Bitcoin and Blockchain, Tech Job Market, Startup Ecosystems, Venture Capital\n",
      "\n",
      "Favorite Words: chicago, drones, entrepreneurship, tech, good, bitcoin, football, women, robots, corporate, trading, robot, life, competition, federal, old, big, drone, act, make, invest, angel, social, times, wrong\n"
     ]
    }
   ],
   "source": [
    "get_user_profile('pointsnfigures')"
   ]
  },
  {
   "cell_type": "code",
   "execution_count": 866,
   "metadata": {
    "collapsed": false
   },
   "outputs": [
    {
     "name": "stdout",
     "output_type": "stream",
     "text": [
      "kidmercury\n",
      "\n",
      "Favorite Topics: Bitcoin and Blockchain, Big 4 Tech Co's, Technology and Patents, Internt Access, Community Feedback, Net Neutrality, Video, Markets, Data Privacy and Security, Mobile\n",
      "\n",
      "Favorite Words: verge, hedge, techcrunch, com, news, amazon, zero, insider, state, bitcoin, technology, disruptive, nsa, currency, code, bank, man, google, says, computers, wants, samsung, china, bloomberg, wsj\n"
     ]
    }
   ],
   "source": [
    "get_user_profile('kidmercury')"
   ]
  },
  {
   "cell_type": "code",
   "execution_count": 867,
   "metadata": {
    "collapsed": false
   },
   "outputs": [],
   "source": [
    "doctopic_df = pd.DataFrame(doctopic)"
   ]
  },
  {
   "cell_type": "code",
   "execution_count": 816,
   "metadata": {
    "collapsed": false
   },
   "outputs": [],
   "source": [
    "doctopic_df.columns = topic_names"
   ]
  },
  {
   "cell_type": "code",
   "execution_count": 817,
   "metadata": {
    "collapsed": false
   },
   "outputs": [],
   "source": [
    "posts_topics = pd.concat([posts,doctopic_df],axis=1)"
   ]
  },
  {
   "cell_type": "markdown",
   "metadata": {},
   "source": [
    "## Finding Posts on a Topic\n",
    "\n",
    "\"Bitcoin and blockchain\" is a very clear topic. These are the \"most Bitcoin\" posts. The final column is how strongly that post is associated the topic. This could be used for a recommendation engine. However, not all topics came through as clearly. "
   ]
  },
  {
   "cell_type": "code",
   "execution_count": 874,
   "metadata": {
    "collapsed": false
   },
   "outputs": [
    {
     "data": {
      "text/html": [
       "<div>\n",
       "<table border=\"1\" class=\"dataframe\">\n",
       "  <thead>\n",
       "    <tr style=\"text-align: right;\">\n",
       "      <th></th>\n",
       "      <th>poster</th>\n",
       "      <th>title</th>\n",
       "      <th>body_text</th>\n",
       "      <th>Bitcoin and Blockchain</th>\n",
       "    </tr>\n",
       "  </thead>\n",
       "  <tbody>\n",
       "    <tr>\n",
       "      <th>3683</th>\n",
       "      <td>TomLabus</td>\n",
       "      <td>Nakamoto Bitcoin Defense</td>\n",
       "      <td>In Bitcoin</td>\n",
       "      <td>0.531392</td>\n",
       "    </tr>\n",
       "    <tr>\n",
       "      <th>4210</th>\n",
       "      <td>pointsnfigures</td>\n",
       "      <td>Burger King to Add Mobile Payments on Cell Phones</td>\n",
       "      <td>precursor to Bitcoin Burgers?</td>\n",
       "      <td>0.531392</td>\n",
       "    </tr>\n",
       "    <tr>\n",
       "      <th>2889</th>\n",
       "      <td>fredwilson</td>\n",
       "      <td>A VC: Bitcoin - Getting Past Store Of Value an...</td>\n",
       "      <td>Some thoughts on where we go next with bitcoin</td>\n",
       "      <td>0.531392</td>\n",
       "    </tr>\n",
       "    <tr>\n",
       "      <th>1723</th>\n",
       "      <td>kidmercury</td>\n",
       "      <td>Bitcoin From Over $900 to Under $540 in Less t...</td>\n",
       "      <td>#bitcoin #hft</td>\n",
       "      <td>0.531392</td>\n",
       "    </tr>\n",
       "    <tr>\n",
       "      <th>5349</th>\n",
       "      <td>kidmercury</td>\n",
       "      <td>Bots were responsible for bitcoin’s stratosphe...</td>\n",
       "      <td>The problems of bitcoin anarchy</td>\n",
       "      <td>0.338237</td>\n",
       "    </tr>\n",
       "    <tr>\n",
       "      <th>7762</th>\n",
       "      <td>kidmercury</td>\n",
       "      <td>Why Bitcoin Matters (Mini-Documentary)</td>\n",
       "      <td>a good dose of bitcoin propaganda is just what...</td>\n",
       "      <td>0.331816</td>\n",
       "    </tr>\n",
       "    <tr>\n",
       "      <th>4579</th>\n",
       "      <td>wmougayar</td>\n",
       "      <td>Search Engine DuckDuckGo Integrates Bitcoin Pr...</td>\n",
       "      <td>DDG goes Bitcoin</td>\n",
       "      <td>0.329520</td>\n",
       "    </tr>\n",
       "    <tr>\n",
       "      <th>248</th>\n",
       "      <td>fredwilson</td>\n",
       "      <td>Coinbase</td>\n",
       "      <td>We have been thinking about and looking to mak...</td>\n",
       "      <td>0.309345</td>\n",
       "    </tr>\n",
       "    <tr>\n",
       "      <th>5532</th>\n",
       "      <td>N_Clemmons</td>\n",
       "      <td>Coinsis: Bitcoin Credit card [DEMO VIDEO]</td>\n",
       "      <td>Send Bitcoin by email\\nPay with a bitcoin cred...</td>\n",
       "      <td>0.299673</td>\n",
       "    </tr>\n",
       "    <tr>\n",
       "      <th>1303</th>\n",
       "      <td>wmougayar</td>\n",
       "      <td>You can now buy a car with Bitcoin in Australia</td>\n",
       "      <td>2 weeks ago, it was \"you can buy a beer in Ams...</td>\n",
       "      <td>0.296406</td>\n",
       "    </tr>\n",
       "    <tr>\n",
       "      <th>7321</th>\n",
       "      <td>albertwenger</td>\n",
       "      <td>BitQuest - The first minecraft server with bit...</td>\n",
       "      <td>Interesting use case for Bitcoin</td>\n",
       "      <td>0.293877</td>\n",
       "    </tr>\n",
       "    <tr>\n",
       "      <th>6733</th>\n",
       "      <td>pointsnfigures</td>\n",
       "      <td>If You Use Facebook, Yelp, Reddit, You Should ...</td>\n",
       "      <td>interesting thought about how to use bitcoin b...</td>\n",
       "      <td>0.289755</td>\n",
       "    </tr>\n",
       "    <tr>\n",
       "      <th>4937</th>\n",
       "      <td>fredwilson</td>\n",
       "      <td>The Pied Piper Effect – AVC</td>\n",
       "      <td>Some thoughts on MIT and Bitcoin</td>\n",
       "      <td>0.287514</td>\n",
       "    </tr>\n",
       "    <tr>\n",
       "      <th>1477</th>\n",
       "      <td>aweissman</td>\n",
       "      <td>Twitter / marcprecipice: Corner bodega, Brookl...</td>\n",
       "      <td>10% off if you pay with Bitcoin</td>\n",
       "      <td>0.285954</td>\n",
       "    </tr>\n",
       "    <tr>\n",
       "      <th>3385</th>\n",
       "      <td>pointsnfigures</td>\n",
       "      <td>Bitcoin:  Store of Value?</td>\n",
       "      <td>is bitcoin a store of value?</td>\n",
       "      <td>0.283853</td>\n",
       "    </tr>\n",
       "    <tr>\n",
       "      <th>5975</th>\n",
       "      <td>EllieAsksWhy</td>\n",
       "      <td>Just a Little Bit More Bitcoin Trouble</td>\n",
       "      <td>There has been so much tumult in the bitcoin a...</td>\n",
       "      <td>0.278721</td>\n",
       "    </tr>\n",
       "    <tr>\n",
       "      <th>4836</th>\n",
       "      <td>christinacaci</td>\n",
       "      <td>Why in Satoshi's name would you want a bitcoin?</td>\n",
       "      <td>It seemed bitcoin could stand to be a little m...</td>\n",
       "      <td>0.278001</td>\n",
       "    </tr>\n",
       "    <tr>\n",
       "      <th>5215</th>\n",
       "      <td>wmougayar</td>\n",
       "      <td>What Block Chain Analysis Tells Us About Bitcoin</td>\n",
       "      <td>Includes some interesting graphs on bitcoin de...</td>\n",
       "      <td>0.274111</td>\n",
       "    </tr>\n",
       "    <tr>\n",
       "      <th>3563</th>\n",
       "      <td>pointsnfigures</td>\n",
       "      <td>Good Sign For Future of Bitcoin</td>\n",
       "      <td>10% of all porn paid for with Bitcoin.</td>\n",
       "      <td>0.272462</td>\n",
       "    </tr>\n",
       "    <tr>\n",
       "      <th>1345</th>\n",
       "      <td>nickgrossman</td>\n",
       "      <td>DarkWallet Aims To Be The Anarchist's Bitcoin ...</td>\n",
       "      <td>DarkWallet is an effort to further anonymize b...</td>\n",
       "      <td>0.269487</td>\n",
       "    </tr>\n",
       "  </tbody>\n",
       "</table>\n",
       "</div>"
      ],
      "text/plain": [
       "              poster                                              title  \\\n",
       "3683        TomLabus                           Nakamoto Bitcoin Defense   \n",
       "4210  pointsnfigures  Burger King to Add Mobile Payments on Cell Phones   \n",
       "2889      fredwilson  A VC: Bitcoin - Getting Past Store Of Value an...   \n",
       "1723      kidmercury  Bitcoin From Over $900 to Under $540 in Less t...   \n",
       "5349      kidmercury  Bots were responsible for bitcoin’s stratosphe...   \n",
       "7762      kidmercury             Why Bitcoin Matters (Mini-Documentary)   \n",
       "4579       wmougayar  Search Engine DuckDuckGo Integrates Bitcoin Pr...   \n",
       "248       fredwilson                                           Coinbase   \n",
       "5532      N_Clemmons          Coinsis: Bitcoin Credit card [DEMO VIDEO]   \n",
       "1303       wmougayar    You can now buy a car with Bitcoin in Australia   \n",
       "7321    albertwenger  BitQuest - The first minecraft server with bit...   \n",
       "6733  pointsnfigures  If You Use Facebook, Yelp, Reddit, You Should ...   \n",
       "4937      fredwilson                        The Pied Piper Effect – AVC   \n",
       "1477       aweissman  Twitter / marcprecipice: Corner bodega, Brookl...   \n",
       "3385  pointsnfigures                          Bitcoin:  Store of Value?   \n",
       "5975    EllieAsksWhy             Just a Little Bit More Bitcoin Trouble   \n",
       "4836   christinacaci    Why in Satoshi's name would you want a bitcoin?   \n",
       "5215       wmougayar   What Block Chain Analysis Tells Us About Bitcoin   \n",
       "3563  pointsnfigures                    Good Sign For Future of Bitcoin   \n",
       "1345    nickgrossman  DarkWallet Aims To Be The Anarchist's Bitcoin ...   \n",
       "\n",
       "                                              body_text  \\\n",
       "3683                                         In Bitcoin   \n",
       "4210                      precursor to Bitcoin Burgers?   \n",
       "2889     Some thoughts on where we go next with bitcoin   \n",
       "1723                                      #bitcoin #hft   \n",
       "5349                    The problems of bitcoin anarchy   \n",
       "7762  a good dose of bitcoin propaganda is just what...   \n",
       "4579                                   DDG goes Bitcoin   \n",
       "248   We have been thinking about and looking to mak...   \n",
       "5532  Send Bitcoin by email\\nPay with a bitcoin cred...   \n",
       "1303  2 weeks ago, it was \"you can buy a beer in Ams...   \n",
       "7321                   Interesting use case for Bitcoin   \n",
       "6733  interesting thought about how to use bitcoin b...   \n",
       "4937                   Some thoughts on MIT and Bitcoin   \n",
       "1477                    10% off if you pay with Bitcoin   \n",
       "3385                       is bitcoin a store of value?   \n",
       "5975  There has been so much tumult in the bitcoin a...   \n",
       "4836  It seemed bitcoin could stand to be a little m...   \n",
       "5215  Includes some interesting graphs on bitcoin de...   \n",
       "3563             10% of all porn paid for with Bitcoin.   \n",
       "1345  DarkWallet is an effort to further anonymize b...   \n",
       "\n",
       "      Bitcoin and Blockchain  \n",
       "3683                0.531392  \n",
       "4210                0.531392  \n",
       "2889                0.531392  \n",
       "1723                0.531392  \n",
       "5349                0.338237  \n",
       "7762                0.331816  \n",
       "4579                0.329520  \n",
       "248                 0.309345  \n",
       "5532                0.299673  \n",
       "1303                0.296406  \n",
       "7321                0.293877  \n",
       "6733                0.289755  \n",
       "4937                0.287514  \n",
       "1477                0.285954  \n",
       "3385                0.283853  \n",
       "5975                0.278721  \n",
       "4836                0.278001  \n",
       "5215                0.274111  \n",
       "3563                0.272462  \n",
       "1345                0.269487  "
      ]
     },
     "execution_count": 874,
     "metadata": {},
     "output_type": "execute_result"
    }
   ],
   "source": [
    "topic = \"Bitcoin and Blockchain\"\n",
    "posts_topics.sort_values( topic,ascending=False)[['poster','title',\"body_text\",topic]].head(20)"
   ]
  },
  {
   "cell_type": "code",
   "execution_count": null,
   "metadata": {
    "collapsed": false
   },
   "outputs": [],
   "source": []
  },
  {
   "cell_type": "code",
   "execution_count": null,
   "metadata": {
    "collapsed": true
   },
   "outputs": [],
   "source": []
  }
 ],
 "metadata": {
  "kernelspec": {
   "display_name": "Python 2",
   "language": "python",
   "name": "python2"
  },
  "language_info": {
   "codemirror_mode": {
    "name": "ipython",
    "version": 2
   },
   "file_extension": ".py",
   "mimetype": "text/x-python",
   "name": "python",
   "nbconvert_exporter": "python",
   "pygments_lexer": "ipython2",
   "version": "2.7.6"
  }
 },
 "nbformat": 4,
 "nbformat_minor": 0
}
